{
 "cells": [
  {
   "cell_type": "code",
   "execution_count": 1,
   "metadata": {},
   "outputs": [],
   "source": [
    "# Import Plant\n",
    "\n",
    "from model.plant import Plant\n",
    "from model.tools import SystemSpecification"
   ]
  },
  {
   "cell_type": "code",
   "execution_count": 3,
   "metadata": {},
   "outputs": [
    {
     "name": "stdout",
     "output_type": "stream",
     "text": [
      "System specification constructor\n",
      "+-----------------+-----------------+-----------------+-----------------+-----------------+-----------------+\n",
      "|                 |        0        |        1        |        2        |        3        |        4        |\n",
      "+-----------------+-----------------+-----------------+-----------------+-----------------+-----------------+\n",
      "|        0        |       None      |       None      |      InOut      |       None      |       None      |\n",
      "|        1        |       None      |   PartsStorage  |      Robot1     |       None      |       None      |\n",
      "|        2        |       None      |       None      |      Press      |       None      |       None      |\n",
      "|        3        |       None      |       None      |       None      |       None      |       None      |\n",
      "|        4        |       None      |       None      |       None      |       None      |       None      |\n",
      "+-----------------+-----------------+-----------------+-----------------+-----------------+-----------------+\n",
      "+-----------------+-----------------+-----------------+-----------------+-----------------+-----------------+\n",
      "|                 |        0        |        1        |        2        |        3        |        4        |\n",
      "+-----------------+-----------------+-----------------+-----------------+-----------------+-----------------+\n",
      "|        0        |       None      |       None      |      InOut      |       None      |       None      |\n",
      "|        1        |       None      |      Press      |      Robot1     |       None      |       None      |\n",
      "|        2        |       None      |       None      |   PartsStorage  |       None      |       None      |\n",
      "|        3        |       None      |       None      |       None      |       None      |       None      |\n",
      "|        4        |       None      |       None      |       None      |       None      |       None      |\n",
      "+-----------------+-----------------+-----------------+-----------------+-----------------+-----------------+\n"
     ]
    }
   ],
   "source": [
    "from model import Vector\n",
    "\n",
    "model_file_path = \"../model.yaml\"\n",
    "\n",
    "model_file = open(model_file_path, \"r\")\n",
    "\n",
    "spec = SystemSpecification(model_stream=model_file)\n",
    "\n",
    "plant = Plant(spec)\n",
    "\n",
    "plant.import_config([\n",
    "    (Vector(2,0), \"InOut\"),\n",
    "    (Vector(2,1), \"Robot1\"),\n",
    "    (Vector(2,2), \"Press\"),\n",
    "    (Vector(1, 1), \"PartsStorage\"),\n",
    "])\n",
    "\n",
    "plant.print()\n",
    "\n",
    "objective_plant = Plant(spec)\n",
    "\n",
    "objective_plant.import_config([\n",
    "    (Vector(2,0), \"InOut\"),\n",
    "    (Vector(2,1), \"Robot1\"),\n",
    "    (Vector(1,1), \"Press\"),\n",
    "    (Vector(2, 2), \"PartsStorage\"),\n",
    "])\n",
    "\n",
    "objective_plant.print()"
   ]
  }
 ],
 "metadata": {
  "kernelspec": {
   "display_name": ".venv",
   "language": "python",
   "name": "python3"
  },
  "language_info": {
   "codemirror_mode": {
    "name": "ipython",
    "version": 3
   },
   "file_extension": ".py",
   "mimetype": "text/x-python",
   "name": "python",
   "nbconvert_exporter": "python",
   "pygments_lexer": "ipython3",
   "version": "3.12.3"
  }
 },
 "nbformat": 4,
 "nbformat_minor": 2
}
