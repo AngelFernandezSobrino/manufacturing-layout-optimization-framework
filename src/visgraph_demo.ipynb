{
 "cells": [
  {
   "cell_type": "code",
   "execution_count": 1,
   "metadata": {},
   "outputs": [
    {
     "name": "stderr",
     "output_type": "stream",
     "text": [
      "100%|██████████| 1/1 [00:00<00:00, 782.81it/s]"
     ]
    },
    {
     "name": "stdout",
     "output_type": "stream",
     "text": [
      "[Point(200.00, 0.00), Point(10.00, 0.00), Point(0.00, 0.00), Point(-200.00, 10.00)]\n"
     ]
    },
    {
     "name": "stderr",
     "output_type": "stream",
     "text": [
      "\n"
     ]
    },
    {
     "name": "stdout",
     "output_type": "stream",
     "text": [
      "Output saved to: example_shortest_path_plot.html\n"
     ]
    }
   ],
   "source": [
    "import pyvisgraph as vg\n",
    "\n",
    "graph = vg.VisGraph()\n",
    "\n",
    "graph.build([[vg.Point(0, 0), vg.Point(10, 0), vg.Point(10, 10), vg.Point(0, 10)]], workers=1, status=True)\n",
    "\n",
    "print(graph.shortest_path(vg.Point(200, 0), vg.Point(-200, 10)))\n",
    "\n",
    "import folium\n",
    "\n",
    "geoplot = folium.Map(location=[0, 0], zoom_start=2)\n",
    "\n",
    "for edge in graph.visgraph.get_edges() if graph.visgraph else []:\n",
    "    folium.PolyLine([[edge.p1.x, edge.p1.y], [edge.p2.x, edge.p2.y]], color='blue').add_to(geoplot)\n",
    "\n",
    "for point in graph.shortest_path(vg.Point(200, 0), destination=vg.Point(-200, 10)):\n",
    "    folium.PolyLine([[point.x, point.y], [point.x, point.y]], color='red').add_to(geoplot)\n",
    "    folium.Marker([point.x, point.y]).add_to(geoplot)\n",
    "\n",
    "output_name = 'example_shortest_path_plot.html'\n",
    "geoplot.save(output_name)\n",
    "print('Output saved to: {}'.format(output_name))"
   ]
  },
  {
   "cell_type": "code",
   "execution_count": 10,
   "metadata": {},
   "outputs": [
    {
     "data": {
      "image/png": "[encoded data removed]",
      "text/plain": [
       "<Figure size 640x480 with 1 Axes>"
      ]
     },
     "metadata": {},
     "output_type": "display_data"
    }
   ],
   "source": [
    "\n",
    "import matplotlib.pyplot as plt \n",
    "  \n",
    "# plot lines \n",
    "\n",
    "edges = graph.visgraph.get_edges()\n",
    "\n",
    "\n",
    "for edge in graph.visgraph.get_edges() if graph.visgraph else []:\n",
    "    plt.plot([edge.p1.x, edge.p2.x], [edge.p1.y, edge.p2.y], color='blue')\n",
    "\n",
    "path_x = []\n",
    "path_y = []\n",
    "\n",
    "for point in graph.shortest_path(vg.Point(-30, 0), destination=vg.Point(30, 10)):\n",
    "    path_x.append(point.x)\n",
    "    path_y.append(point.y)\n",
    "\n",
    "plt.plot(path_x, path_y, color='blue')\n",
    "\n",
    "plt.xlim(-50, 50)\n",
    "plt.ylim(-50, 50)\n",
    "plt.show()"
   ]
  }
 ],
 "metadata": {
  "kernelspec": {
   "display_name": ".venv",
   "language": "python",
   "name": "python3"
  },
  "language_info": {
   "codemirror_mode": {
    "name": "ipython",
    "version": 3
   },
   "file_extension": ".py",
   "mimetype": "text/x-python",
   "name": "python",
   "nbconvert_exporter": "python",
   "pygments_lexer": "ipython3",
   "version": "3.11.1"
  }
 },
 "nbformat": 4,
 "nbformat_minor": 2
}
